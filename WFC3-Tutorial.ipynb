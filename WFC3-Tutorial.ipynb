{
 "cells": [
  {
   "cell_type": "markdown",
   "metadata": {},
   "source": [
    "**Time-resolved High-precision Data Analysis with HST/WFC3**"
   ]
  },
  {
   "cell_type": "markdown",
   "metadata": {},
   "source": [
    "Yifan Zhou (UT Austin) and Daniel Apai (U Arizona)"
   ]
  },
  {
   "cell_type": "code",
   "execution_count": null,
   "metadata": {},
   "outputs": [],
   "source": []
  },
  {
   "cell_type": "markdown",
   "metadata": {},
   "source": [
    "This activity has the following learning goals:\n",
    "    * Basics of HST/WFC3 data and calibration images\n",
    "    * Fundamental observing modes: staring, scanning\n",
    "    * Fitting transits to reduced data\n",
    "    * Importance of the charge trapping effect\n",
    "    * Reduced transit spectrum       "
   ]
  },
  {
   "cell_type": "markdown",
   "metadata": {},
   "source": [
    "**The Hubble Space Telescope and its Wide Field Camera 3**"
   ]
  },
  {
   "cell_type": "markdown",
   "metadata": {},
   "source": [
    "We will add here a brief description of HST's relevance for time-domain observations, perhaps a photo of the telescopes, and then a few sentences about WFC3 and its fundamental modes."
   ]
  },
  {
   "cell_type": "markdown",
   "metadata": {},
   "source": [
    "**Task 1: Basics of HST/WFC3 Data**"
   ]
  },
  {
   "cell_type": "markdown",
   "metadata": {},
   "source": [
    "In this task we will explore science integrations and calibration data for HST/WFC3. In its commonly used imaging mode HST can take non-dispersed (aks \"direct\") images of its field of view. In spectrally dispersed mode ...\n",
    "\n",
    "HST/WFC3 is using a grism to obtain slitless spectra: this means ...\n",
    "\n",
    "\n"
   ]
  },
  {
   "cell_type": "markdown",
   "metadata": {},
   "source": [
    "In this task you will match four images taken with WFC3 with their descriptions and purpose.\n",
    "Inspect the four images carefully.\n",
    "\n",
    "![](Figures/Task1.pdf)\n",
    "\n",
    "*Show Images for*\n",
    "* Staring mode observation of a brown dwarf? (or TRAPPIST-1) with other sources in the field\n",
    "* Scanning mode slitless spectra for TRAPIST-1\n",
    "* Direct image of a field \n",
    "* Calibration File: sky frame/flat field\n",
    "* ~Calibration file: bad pixel map / map of cosmic rays?~\n",
    "\n",
    "*Show labels*\n",
    "\n",
    "*Show Purposes*\n",
    "A) Science data for target identification or photometric measurement\n",
    "B) Science data for high-precision spectrophotometric measurement of bright sources\n",
    "C) Science data for spectroscopic or spectrophotometric observations of faint sources\n",
    "D) Calibration data to correct for sensitivity variations across the detector\n",
    "E) Calibration data identifying unreliable pixels\n",
    "\n"
   ]
  },
  {
   "cell_type": "code",
   "execution_count": null,
   "metadata": {},
   "outputs": [],
   "source": []
  },
  {
   "cell_type": "markdown",
   "metadata": {},
   "source": [
    "**Task 2 Interpreting slitless grism image**"
   ]
  },
  {
   "cell_type": "markdown",
   "metadata": {},
   "source": [
    "In this task we will interpret the slitless spectrum image of a field including the target and bright sources and a spatially scanned specxtr\n",
    "\n",
    "2a) The image below shows a starfield with a very cool brown dwarf in it. Inspect the image, identify the spatial directions as well as the direction of spectral dispersion. Which direction points toward the shorter wavelengths? Which target may be the brown dwarf and why? "
   ]
  },
  {
   "cell_type": "markdown",
   "metadata": {},
   "source": [
    "*2b) Interpreting scanning-mode images*\n",
    "Inspect the image below. This image is a XXX second long exposure with HST/WFC3 targeting TRAPPIST-1. During the exposure the planet TRAPPIST-1?? began transiting its host star. Although not visible on this image without analysis, the data record this event. Discuss how to interpret this image and how is the transit ingress encoded in it. What do the X/Y directions and pixel intensity correspond to on this image? How could the transit be detected in this image? How could the spectra of the star be derived from the image? How does this image encode the transiting planet's transmission spectrum? "
   ]
  },
  {
   "cell_type": "code",
   "execution_count": null,
   "metadata": {},
   "outputs": [],
   "source": []
  },
  {
   "cell_type": "markdown",
   "metadata": {},
   "source": [
    "**Task 3: Charge Trapping Effect Demo**"
   ]
  },
  {
   "cell_type": "markdown",
   "metadata": {},
   "source": [
    "In this task we will explore the origin and importance of the charge trapping effect and how it impacts raw integrations with HST/WFC3.\n",
    "Yifan: please include here what you have."
   ]
  },
  {
   "cell_type": "markdown",
   "metadata": {},
   "source": [
    "**Task 4: Fitting transit model with Charge Trap Correction**"
   ]
  },
  {
   "cell_type": "markdown",
   "metadata": {},
   "source": [
    "In this task we will use the batman package to fit a transit to the lightcurve extracted from the direct images. You will fit the transit model to data before and after charge trap correction to understand the importance of systematics."
   ]
  },
  {
   "cell_type": "markdown",
   "metadata": {},
   "source": [
    "**Transit Spectrum**\n",
    "\n",
    "End with the spectrum, final product\n",
    "Explain out-of-transit spectra vs. in-transit spectrum\n"
   ]
  },
  {
   "cell_type": "code",
   "execution_count": null,
   "metadata": {},
   "outputs": [],
   "source": []
  }
 ],
 "metadata": {
  "kernelspec": {
   "display_name": "Python 3",
   "language": "python",
   "name": "python3"
  },
  "language_info": {
   "codemirror_mode": {
    "name": "ipython",
    "version": 3
   },
   "file_extension": ".py",
   "mimetype": "text/x-python",
   "name": "python",
   "nbconvert_exporter": "python",
   "pygments_lexer": "ipython3",
   "version": "3.7.5"
  }
 },
 "nbformat": 4,
 "nbformat_minor": 2
}
